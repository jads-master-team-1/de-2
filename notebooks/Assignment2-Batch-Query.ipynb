{
 "cells": [
  {
   "cell_type": "markdown",
   "id": "357c1d25-a4c1-430b-b2c6-a89a0d6507e8",
   "metadata": {},
   "source": [
    "## Batch Query"
   ]
  },
  {
   "cell_type": "markdown",
   "id": "9277e046-16a0-490b-9546-a7eec7cc442d",
   "metadata": {},
   "source": [
    "Prior to the games, questions to answer with batch querying:\n",
    "- Which discipline has the most athletes for each country?\n",
    "- Provide an overview of the number of athletes from all countries in each discipline and overall\n",
    "- Which countries have the highest and lowest proportions of athletes to coaches?\n",
    "- Which discipline has the highest proportion of female technical officials?\n",
    "- Which discipline has the oldest and youngest athletes on average? Which discipline has the smallest and tallest athletes? "
   ]
  },
  {
   "cell_type": "code",
   "execution_count": 1,
   "id": "256a06e8-5c19-493f-b597-b21467b7d585",
   "metadata": {},
   "outputs": [
    {
     "name": "stdout",
     "output_type": "stream",
     "text": [
      "root\n",
      " |-- name: string (nullable = true)\n",
      " |-- short_name: string (nullable = true)\n",
      " |-- gender: string (nullable = true)\n",
      " |-- birth_date: string (nullable = true)\n",
      " |-- birth_place: string (nullable = true)\n",
      " |-- country_code: string (nullable = true)\n",
      " |-- discipline_code: string (nullable = true)\n",
      " |-- residence_place: string (nullable = true)\n",
      " |-- residence_country: string (nullable = true)\n",
      " |-- url: string (nullable = true)\n",
      " |-- height_m: string (nullable = true)\n",
      " |-- birth_country_code: string (nullable = true)\n",
      "\n",
      "+---------------+----------+------+----------+-----------+------------+---------------+---------------+-----------------+--------------------+--------+------------------+\n",
      "|           name|short_name|gender|birth_date|birth_place|country_code|discipline_code|residence_place|residence_country|                 url|height_m|birth_country_code|\n",
      "+---------------+----------+------+----------+-----------+------------+---------------+---------------+-----------------+--------------------+--------+------------------+\n",
      "|AALERUD Katrine| AALERUD K|Female|1994-12-04|     VESTBY|         NOR|            CRD|           null|             null|../../../en/resul...|    null|               NOR|\n",
      "+---------------+----------+------+----------+-----------+------------+---------------+---------------+-----------------+--------------------+--------+------------------+\n",
      "only showing top 1 row\n",
      "\n",
      "root\n",
      " |-- name: string (nullable = true)\n",
      " |-- short_name: string (nullable = true)\n",
      " |-- gender: string (nullable = true)\n",
      " |-- birth_date: string (nullable = true)\n",
      " |-- country_code: string (nullable = true)\n",
      " |-- function: string (nullable = true)\n",
      " |-- event: string (nullable = true)\n",
      " |-- url: string (nullable = true)\n",
      " |-- discipline_code: string (nullable = true)\n",
      "\n",
      "+-------------+----------+------+----------+------------+--------+-----+--------------------+---------------+\n",
      "|         name|short_name|gender|birth_date|country_code|function|event|                 url|discipline_code|\n",
      "+-------------+----------+------+----------+------------+--------+-----+--------------------+---------------+\n",
      "|ABE Katsuhiko|     ABE K|  Male|1979-09-23|         JPN|   Coach| null|../../../en/resul...|            BKB|\n",
      "+-------------+----------+------+----------+------------+--------+-----+--------------------+---------------+\n",
      "only showing top 1 row\n",
      "\n",
      "root\n",
      " |-- name: string (nullable = true)\n",
      " |-- short_name: string (nullable = true)\n",
      " |-- gender: string (nullable = true)\n",
      " |-- birth_date: string (nullable = true)\n",
      " |-- function: string (nullable = true)\n",
      " |-- url: string (nullable = true)\n",
      " |-- country_code: string (nullable = true)\n",
      " |-- discipline_code: string (nullable = true)\n",
      "\n",
      "+--------------+----------+------+----------+--------+--------------------+------------+---------------+\n",
      "|          name|short_name|gender|birth_date|function|                 url|country_code|discipline_code|\n",
      "+--------------+----------+------+----------+--------+--------------------+------------+---------------+\n",
      "|AHLERING Julie|AHLERING J|Female|1959-03-12|   Judge|../../../en/resul...|         USA|            DIV|\n",
      "+--------------+----------+------+----------+--------+--------------------+------------+---------------+\n",
      "only showing top 1 row\n",
      "\n",
      "root\n",
      " |-- country_code: string (nullable = true)\n",
      " |-- country: string (nullable = true)\n",
      "\n",
      "+------------+-------+\n",
      "|country_code|country|\n",
      "+------------+-------+\n",
      "|         DEN|Denmark|\n",
      "+------------+-------+\n",
      "only showing top 1 row\n",
      "\n",
      "root\n",
      " |-- discipline_code: string (nullable = true)\n",
      " |-- discipline: string (nullable = true)\n",
      "\n",
      "+---------------+----------+\n",
      "|discipline_code|discipline|\n",
      "+---------------+----------+\n",
      "|            SAL|   Sailing|\n",
      "+---------------+----------+\n",
      "only showing top 1 row\n",
      "\n"
     ]
    }
   ],
   "source": [
    "from pyspark.sql import SparkSession\n",
    "from pyspark import SparkConf\n",
    "\n",
    "# Setting Spark configuration\n",
    "sparkConf = SparkConf()\n",
    "sparkConf.setMaster(\"spark://spark-master:7077\")\n",
    "sparkConf.setAppName(\"Assignment2-BatchQuery\")\n",
    "sparkConf.set(\"spark.driver.memory\", \"2g\")\n",
    "sparkConf.set(\"spark.executor.cores\", \"1\")\n",
    "sparkConf.set(\"spark.driver.cores\", \"1\")\n",
    "# Create the spark session, which is the entry point to Spark SQL engine\n",
    "spark = SparkSession.builder.config(conf=sparkConf).getOrCreate()\n",
    "\n",
    "# Setup hadoop fs configuration for schema gs://\n",
    "conf = spark.sparkContext._jsc.hadoopConfiguration()\n",
    "conf.set(\"fs.gs.impl\", \"com.google.cloud.hadoop.fs.gcs.GoogleHadoopFileSystem\")\n",
    "conf.set(\"fs.AbstractFileSystem.gs.impl\", \"com.google.cloud.hadoop.fs.gcs.GoogleHadoopFS\")\n",
    "\n",
    "# Google Storage File Path\n",
    "# Have to collect together data which has been partitioned when saved back into the bucket\n",
    "athletes_gsc_file_path = 'gs://dejads_output_assignment2_team1/athletes_clean.csv/*.csv' \n",
    "coaches_gsc_file_path = 'gs://dejads_output_assignment2_team1/coaches_clean.csv/*.csv' \n",
    "tech_offic_gsc_file_path = 'gs://dejads_output_assignment2_team1/tech_offic_clean.csv/*.csv' \n",
    "country_file_path = 'gs://dejads_output_assignment2_team1/country.csv/*.csv' \n",
    "disciplines_file_path = 'gs://dejads_output_assignment2_team1/disciplines.csv/*.csv' \n",
    "\n",
    "# Create data frames, return their schemas and show the first row\n",
    "athletes_df = spark.read.format(\"csv\").option(\"header\", \"true\") \\\n",
    "       .load(athletes_gsc_file_path)\n",
    "athletes_df.printSchema()\n",
    "athletes_df.show(1)\n",
    "\n",
    "coaches_df = spark.read.format(\"csv\").option(\"header\", \"true\") \\\n",
    "       .load(coaches_gsc_file_path)\n",
    "coaches_df.printSchema()\n",
    "coaches_df.show(1)\n",
    "\n",
    "tech_offic_df = spark.read.format(\"csv\").option(\"header\", \"true\") \\\n",
    "       .load(tech_offic_gsc_file_path)\n",
    "tech_offic_df.printSchema()\n",
    "tech_offic_df.show(1)\n",
    "\n",
    "country_df = spark.read.format(\"csv\").option(\"header\", \"true\") \\\n",
    "       .load(country_file_path)\n",
    "country_df.printSchema()\n",
    "country_df.show(1)\n",
    "\n",
    "disc_df = spark.read.format(\"csv\").option(\"header\", \"true\") \\\n",
    "       .load(disciplines_file_path)\n",
    "disc_df.printSchema()\n",
    "disc_df.show(1)"
   ]
  },
  {
   "cell_type": "code",
   "execution_count": 6,
   "id": "dd6161d6-8892-42b8-812f-4827be1109e2",
   "metadata": {},
   "outputs": [],
   "source": [
    "# Define function to save data to BigQuery\n",
    "# Use the Cloud Storage bucket for temporary BigQuery export data used by the connector\n",
    "def saveBigQuery(df,table_name):\n",
    "    # update personal bucket name\n",
    "    bucket = \"dejads_temp_assignment2_team1\"\n",
    "    spark.conf.set('temporaryGcsBucket', bucket)\n",
    "    # Setup hadoop fs configuration for schema gs://\n",
    "    conf = spark.sparkContext._jsc.hadoopConfiguration()\n",
    "    conf.set(\"fs.gs.impl\", \"com.google.cloud.hadoop.fs.gcs.GoogleHadoopFileSystem\")\n",
    "    conf.set(\"fs.AbstractFileSystem.gs.impl\", \"com.google.cloud.hadoop.fs.gcs.GoogleHadoopFS\")\n",
    "    # Saving the data to BigQuery\n",
    "    # update personal project and table name\n",
    "    df.write.format('bigquery') \\\n",
    "      .option('table', 'de2021-assignment2.assignment2.' + table_name) \\\n",
    "      .mode(\"append\") \\\n",
    "      .save()"
   ]
  },
  {
   "cell_type": "markdown",
   "id": "38f2158e-db06-4b0b-9a9c-e8c654022a14",
   "metadata": {},
   "source": [
    "### Which discipline has the most athletes for each country?"
   ]
  },
  {
   "cell_type": "code",
   "execution_count": 3,
   "id": "c60876d6-d5d6-4fec-b08a-df4549821d73",
   "metadata": {},
   "outputs": [],
   "source": [
    "from pyspark.sql.functions import max, dense_rank, desc, col\n",
    "from pyspark.sql.window import Window\n",
    "\n",
    "# Create dataframe with number of athletes from each country for each discipline\n",
    "gp_cty_disc_df = athletes_df.groupBy(\"country_code\", \"discipline_code\").count().withColumnRenamed('count', 'no_athletes')\n",
    "\n",
    "# Window query, partition by country_code, descending number of athletes\n",
    "windowSpec = Window\\\n",
    "  .partitionBy(\"country_code\")\\\n",
    "  .orderBy(desc(\"no_athletes\"))\n",
    "\n",
    "# Dense rank over window query returning only first row (highest number of athletes)\n",
    "top_gp_cty_disc_df = gp_cty_disc_df.withColumn('dense_rank', dense_rank().over(windowSpec)).where(col('dense_rank') == 1)\n",
    "# Join to country dataframe to display country name\n",
    "top_gp_cty_disc_df = top_gp_cty_disc_df.join(country_df, \"country_code\", \"left_outer\").drop('country_code')\n",
    "# Join to discipline dataframe to display discipline\n",
    "top_gp_cty_disc_df = top_gp_cty_disc_df.join(disc_df, \"discipline_code\", \"left_outer\").drop('discipline_code')"
   ]
  },
  {
   "cell_type": "code",
   "execution_count": 4,
   "id": "52cb268d-4d21-48a9-a51d-55acf3844d36",
   "metadata": {},
   "outputs": [
    {
     "name": "stdout",
     "output_type": "stream",
     "text": [
      "+-------------------+-------------+-----------+\n",
      "|            country|   discipline|no_athletes|\n",
      "+-------------------+-------------+-----------+\n",
      "|        Afghanistan|    Athletics|          2|\n",
      "|            Albania|    Athletics|          2|\n",
      "|            Albania|     Swimming|          2|\n",
      "|            Albania|Weightlifting|          2|\n",
      "|            Algeria|       Boxing|          8|\n",
      "|            Algeria|    Wrestling|          8|\n",
      "|     American Samoa|      Sailing|          2|\n",
      "|     American Samoa|     Swimming|          2|\n",
      "|            Andorra|    Athletics|          1|\n",
      "|            Andorra| Canoe Slalom|          1|\n",
      "|             Angola|     Handball|         14|\n",
      "|Antigua and Barbuda|    Athletics|          2|\n",
      "|Antigua and Barbuda|     Swimming|          2|\n",
      "|          Argentina|       Hockey|         36|\n",
      "|            Armenia|    Wrestling|          6|\n",
      "|              Aruba|     Swimming|          2|\n",
      "|          Australia|    Athletics|         63|\n",
      "|            Austria|    Athletics|          7|\n",
      "|            Austria|     Swimming|          7|\n",
      "|         Azerbaijan|         Judo|          9|\n",
      "+-------------------+-------------+-----------+\n",
      "only showing top 20 rows\n",
      "\n"
     ]
    }
   ],
   "source": [
    "# Selecting columns to display and order alphabetically on country and discipline\n",
    "top_gp_cty_disc_df = top_gp_cty_disc_df.select('country', 'discipline', 'no_athletes').orderBy('country', 'discipline')\n",
    "top_gp_cty_disc_df.show()"
   ]
  },
  {
   "cell_type": "code",
   "execution_count": 7,
   "id": "6ac4d702-7f87-49c8-ad7b-2b6bb6203fee",
   "metadata": {},
   "outputs": [],
   "source": [
    "# Save result into serving layer in BigQuery\n",
    "saveBigQuery(top_gp_cty_disc_df,'top_disc_per_country')"
   ]
  },
  {
   "cell_type": "markdown",
   "id": "ca12ad38-4702-409d-b4a5-13576e2ae312",
   "metadata": {},
   "source": [
    "### Provide an overview of the number of athletes from all countries in each discipline and overall"
   ]
  },
  {
   "cell_type": "code",
   "execution_count": 8,
   "id": "afd36194-6644-4dba-b589-13047b707d8d",
   "metadata": {},
   "outputs": [],
   "source": [
    "from pyspark.sql.functions import count\n",
    "\n",
    "# Cube on athletes for country and discipline to give the total number of athletes per country and number per country for each discipline\n",
    "ath_cube = athletes_df.cube(\"country_code\", \"discipline_code\").agg(count(col(\"name\")))\\\n",
    "    .withColumnRenamed('count(name)', 'no_athletes')\n",
    "\n",
    "# Join to country dataframe to display country name\n",
    "ath_cube = ath_cube.join(country_df, \"country_code\", \"left_outer\").drop('country_code')\n",
    "# Join to discipline dataframe to display discipline\n",
    "ath_cube = ath_cube.join(disc_df, \"discipline_code\", \"left_outer\").drop('discipline_code')"
   ]
  },
  {
   "cell_type": "code",
   "execution_count": 9,
   "id": "90ad5222-18c2-44fc-a628-d2be8152281b",
   "metadata": {},
   "outputs": [
    {
     "name": "stdout",
     "output_type": "stream",
     "text": [
      "+-----------+-------------------+-----------+\n",
      "|    country|         discipline|no_athletes|\n",
      "+-----------+-------------------+-----------+\n",
      "|Afghanistan|          Athletics|          2|\n",
      "|Afghanistan|           Shooting|          1|\n",
      "|Afghanistan|           Swimming|          1|\n",
      "|Afghanistan|          Taekwondo|          1|\n",
      "|Afghanistan|              Total|          5|\n",
      "|    Albania|Artistic Gymnastics|          1|\n",
      "|    Albania|          Athletics|          2|\n",
      "|    Albania|               Judo|          1|\n",
      "|    Albania|           Shooting|          1|\n",
      "|    Albania|           Swimming|          2|\n",
      "|    Albania|              Total|          9|\n",
      "|    Albania|      Weightlifting|          2|\n",
      "|    Algeria|          Athletics|          5|\n",
      "|    Algeria|             Boxing|          8|\n",
      "|    Algeria|       Canoe Sprint|          1|\n",
      "|    Algeria|       Cycling Road|          2|\n",
      "|    Algeria|            Fencing|          4|\n",
      "|    Algeria|               Judo|          2|\n",
      "|    Algeria|             Karate|          1|\n",
      "|    Algeria|  Marathon Swimming|          1|\n",
      "+-----------+-------------------+-----------+\n",
      "only showing top 20 rows\n",
      "\n"
     ]
    }
   ],
   "source": [
    "# Filling nulls from cube with total for clarity (there are no nulls for country and discipline in original dataset)\n",
    "ath_cube = ath_cube.select('country', 'discipline', 'no_athletes').na.fill(\"Total\").orderBy(\"country\", \"discipline\")\n",
    "ath_cube.show()"
   ]
  },
  {
   "cell_type": "code",
   "execution_count": 10,
   "id": "cfaf7b71-63f5-4300-9a44-0839e0620ce9",
   "metadata": {},
   "outputs": [],
   "source": [
    "# Save result into serving layer in BigQuery\n",
    "saveBigQuery(ath_cube,'overview_athletes_disc_per_country')"
   ]
  },
  {
   "cell_type": "markdown",
   "id": "e6dca8eb-d27c-4e6d-ab56-d666f9a80abd",
   "metadata": {},
   "source": [
    "### Which countries have the highest and lowest proportion of athletes to coaches? (top/bottom 3)"
   ]
  },
  {
   "cell_type": "code",
   "execution_count": 11,
   "id": "2367f1a2-52fb-4334-8f9c-b6de55bf84f9",
   "metadata": {},
   "outputs": [],
   "source": [
    "# Grouping athletes by country code with count of athletes per country\n",
    "gp_ath_cty_df = athletes_df.groupBy(\"country_code\").count().withColumnRenamed('count', 'no_athletes')\n",
    "# Grouping coaches by country code with count of coaches per country\n",
    "gp_coach_cty_df = coaches_df.groupBy(\"country_code\").count().withColumnRenamed('count', 'no_coaches')\n",
    "\n",
    "# Joining athletes table to coaches table- using full outer join in case there is a country in one table not present in the other\n",
    "ath_coach_cty = gp_ath_cty_df.join(gp_coach_cty_df, 'country_code', 'full_outer')\n",
    "# Join to country dataframe to display country name\n",
    "ath_coach_cty = ath_coach_cty.join(country_df, 'country_code', 'inner')"
   ]
  },
  {
   "cell_type": "code",
   "execution_count": 12,
   "id": "9bc3bb22-14d7-4aa9-a397-f9a6ad977af0",
   "metadata": {},
   "outputs": [
    {
     "name": "stdout",
     "output_type": "stream",
     "text": [
      "+--------------------+----------+-----------+------------------------+---------+--------+\n",
      "|             country|no_coaches|no_athletes|proportionAthleteToCoach|desc_rank|asc_rank|\n",
      "+--------------------+----------+-----------+------------------------+---------+--------+\n",
      "|           Venezuela|        10|         43|                     4.3|       59|       1|\n",
      "|       Liechtenstein|         1|          5|                     5.0|       58|       2|\n",
      "|             Nigeria|         9|         53|                    5.89|       57|       3|\n",
      "|             Belarus|         1|        103|                   103.0|        3|      57|\n",
      "|              Turkey|         1|        107|                   107.0|        2|      58|\n",
      "|        Burkina Faso|         0|          7|                Infinity|        1|      59|\n",
      "|             Armenia|         0|         17|                Infinity|        1|      59|\n",
      "|             Jamaica|         0|         61|                Infinity|        1|      59|\n",
      "|          Mozambique|         0|         10|                Infinity|        1|      59|\n",
      "|                Cuba|         0|         69|                Infinity|        1|      59|\n",
      "|             Algeria|         0|         41|                Infinity|        1|      59|\n",
      "|Virgin Islands, B...|         0|          3|                Infinity|        1|      59|\n",
      "|Federated States ...|         0|          3|                Infinity|        1|      59|\n",
      "|             Bolivia|         0|          5|                Infinity|        1|      59|\n",
      "|   Equatorial Guinea|         0|          3|                Infinity|        1|      59|\n",
      "|              Jordan|         0|         14|                Infinity|        1|      59|\n",
      "|             Somalia|         0|          2|                Infinity|        1|      59|\n",
      "|Democratic Republ...|         0|          7|                Infinity|        1|      59|\n",
      "|             Myanmar|         0|          2|                Infinity|        1|      59|\n",
      "|               Nepal|         0|          5|                Infinity|        1|      59|\n",
      "+--------------------+----------+-----------+------------------------+---------+--------+\n",
      "only showing top 20 rows\n",
      "\n"
     ]
    }
   ],
   "source": [
    "from pyspark.sql.functions import round, desc, asc\n",
    "\n",
    "# Selecting country, number of coaches, number of athletes\n",
    "# Replace any missing data with 0\n",
    "# Creating new column with the proportion of athletes to coaches\n",
    "# If any countries with no coaches then fill in proportion column with infinity\n",
    "ath_coach_cty = ath_coach_cty.select('country', 'no_coaches', 'no_athletes') \\\n",
    "    .na.fill(0) \\\n",
    "    .withColumn('proportionAthleteToCoach', col('no_athletes')/col('no_coaches')) \\\n",
    "    .na.fill(float('inf')) \\\n",
    "\n",
    "# Create window function with the proportion ascending and descending\n",
    "windowSpecDesc = Window\\\n",
    "  .orderBy(col(\"proportionAthleteToCoach\").desc())\n",
    "windowSpecAsc = Window\\\n",
    "  .orderBy(col(\"proportionAthleteToCoach\").asc())\n",
    "\n",
    "# Adding rank columns ascending and descending and filtering to top 3 and bottom 3 rankings\n",
    "ath_coach_cty = ath_coach_cty.withColumn('desc_rank', dense_rank().over(windowSpecDesc))\\\n",
    "    .withColumn('asc_rank', dense_rank().over(windowSpecAsc)).where((col('desc_rank') <= 3) | (col('asc_rank') <= 3))\n",
    "\n",
    "# Rounding proportion column to two decimal places for clarity\n",
    "ath_coach_cty = ath_coach_cty.withColumn('proportionAthleteToCoach', round(col('proportionAthleteToCoach'),2)).orderBy(asc('proportionAthleteToCoach'))\n",
    "ath_coach_cty.show()"
   ]
  },
  {
   "cell_type": "code",
   "execution_count": 13,
   "id": "88370412-6c60-467b-a148-a1afa924c8c6",
   "metadata": {},
   "outputs": [],
   "source": [
    "# Save result into serving layer in BigQuery\n",
    "saveBigQuery(ath_coach_cty,'prop_coach_athlete_cty')"
   ]
  },
  {
   "cell_type": "markdown",
   "id": "f87a48a2-06f4-46de-9f76-67753dcc1d41",
   "metadata": {},
   "source": [
    "### Which discipline has the highest and lowest proportion of female technical officials? (top/ bottom 3)"
   ]
  },
  {
   "cell_type": "markdown",
   "id": "07ff476d-a6b3-46c9-b9e1-b8f35c0629a6",
   "metadata": {},
   "source": [
    "Note: there are a number of disciplines which do not have technical officials stored in the database. Therefore here we focus on sports which do have technical officials stored."
   ]
  },
  {
   "cell_type": "code",
   "execution_count": 14,
   "id": "df4aed10-008d-45e4-a18d-20492ebbc6bf",
   "metadata": {},
   "outputs": [
    {
     "name": "stdout",
     "output_type": "stream",
     "text": [
      "+--------+----------------+----------------------+--------------------+--------------+\n",
      "| ranking|      discipline|female_officials_count|count_per_discipline|percent_female|\n",
      "+--------+----------------+----------------------+--------------------+--------------+\n",
      "|   Top 3|          Hockey|                    14|                  28|           50%|\n",
      "|   Top 3|      Equestrian|                    17|                  38|           44%|\n",
      "|   Top 3|      Water Polo|                    40|                 107|           37%|\n",
      "|Bottom 3|        Handball|                    12|                  74|           16%|\n",
      "|Bottom 3|Beach Volleyball|                    11|                  72|           15%|\n",
      "|Bottom 3|       Wrestling|                     7|                  82|            8%|\n",
      "+--------+----------------+----------------------+--------------------+--------------+\n",
      "\n"
     ]
    }
   ],
   "source": [
    "from pyspark.sql.functions import when, concat, lit\n",
    "\n",
    "# Rollup of tech officials based on discipline code and gender, then filtering to rows with Females or total number\n",
    "# Doing join between two table to get row with count of females and total count for each discipline\n",
    "# Filling any nulls with 0 (i.e. if discipline had no women)\n",
    "tech_rollup = tech_offic_df.rollup(\"discipline_code\", \"gender\").count().where((col('gender') == 'Female') | (col('gender').isNull()))\n",
    "tech_rollup_total = tech_rollup.where(col('gender').isNull() & (~col('discipline_code').isNull()))\n",
    "tech_rollup_female = tech_rollup.where(col('gender') == 'Female').withColumnRenamed('count', 'female_officials_count').drop('gender')\n",
    "tech_rollup = tech_rollup_female.join(tech_rollup_total.drop('gender').withColumnRenamed('count', 'count_per_discipline'), \\\n",
    "                                      'discipline_code', how='right_outer').na.fill(0)\n",
    "\n",
    "# Join technical officials to all disciplines and dropping discipline code\n",
    "# Using inner join because concentrating on disciplines in dataset\n",
    "female_df = tech_rollup.join(disc_df, \"discipline_code\", \"inner\").drop('discipline_code').na.fill(0)\n",
    "\n",
    "# Creating percentage column with number of female officials divided by the number of officials in total\n",
    "female_df = female_df.withColumn('percent_female', col('female_officials_count')/col('count_per_discipline'))\n",
    "\n",
    "# Created window functions ordering the disciplines on their percentage of female officials\n",
    "windowSpecAsc = Window\\\n",
    "  .orderBy(col(\"percent_female\").asc())\n",
    "windowSpecDesc = Window\\\n",
    "  .orderBy(col(\"percent_female\").desc())\n",
    "\n",
    "# Filtering disciplines based on their ranking of percentage of female officials (top/ bottom three)\n",
    "female_df = female_df.withColumn('asc_rank', dense_rank().over(windowSpecAsc)) \\\n",
    "    .withColumn('desc_rank', dense_rank().over(windowSpecDesc)).where((col('desc_rank') <= 3) | (col('asc_rank') <= 3))\n",
    "\n",
    "# Adding column naming if they are top or bottom 3 based on ranking columns\n",
    "female_df = female_df.withColumn('ranking', when(col('asc_rank') <= 3, 'Bottom 3').when(col('desc_rank') <= 3, 'Top 3').otherwise(None))\n",
    "\n",
    "# Changing decimal column to actual percentage and choosing columns to display\n",
    "female_df = female_df.withColumn('percent_female', concat((col('percent_female') * 100).cast(\"int\"),lit('%'))) \\\n",
    "    .select('ranking','discipline', 'female_officials_count','count_per_discipline','percent_female')\n",
    "female_df.show()"
   ]
  },
  {
   "cell_type": "code",
   "execution_count": 15,
   "id": "e69a4a00-262c-4bbe-b293-2d15979a5d9f",
   "metadata": {},
   "outputs": [],
   "source": [
    "saveBigQuery(female_df,'prop_female_tech_disc')"
   ]
  },
  {
   "cell_type": "markdown",
   "id": "a8b6764c-7edb-436d-b8a8-930407de3480",
   "metadata": {},
   "source": [
    "### Which discipline has the oldest and youngest athletes on average? Which discipline has the smallest and tallest athletes? "
   ]
  },
  {
   "cell_type": "code",
   "execution_count": 16,
   "id": "3138b44a-288e-4a88-b9da-dd4397b07999",
   "metadata": {},
   "outputs": [],
   "source": [
    "from pyspark.sql.types import DateType, DoubleType\n",
    "from pyspark.sql.functions import months_between, current_date, round\n",
    "\n",
    "# Casting height to a DoubleType\n",
    "athletes_df = athletes_df.withColumn('height_m', col('height_m').cast(DoubleType()))\n",
    "# Casting birthdate to a DateType \n",
    "athletes_df = athletes_df.withColumn('birth_date', col('birth_date').cast(DateType()))\n",
    "# Calculating age based on number of months between birthdate and now divided by 12 and rounded to two decimal places\n",
    "athletes_df = athletes_df \\\n",
    "  .withColumn(\"age_rounded\",round(months_between(current_date(),col(\"birth_date\"))/lit(12),2))"
   ]
  },
  {
   "cell_type": "markdown",
   "id": "90deb898-d324-4d3a-a6b1-a56796d94ac2",
   "metadata": {},
   "source": [
    "The below is carried out with SQL to show other techniques possible with Spark."
   ]
  },
  {
   "cell_type": "code",
   "execution_count": 17,
   "id": "cf2a8ba7-2a89-40e0-8768-d9c7ce2621f2",
   "metadata": {},
   "outputs": [],
   "source": [
    "# Creating views of tables for SQL\n",
    "athletes_df.createOrReplaceTempView(\"dfAthletes\")\n",
    "disc_df.createOrReplaceTempView(\"dfDisc\")"
   ]
  },
  {
   "cell_type": "code",
   "execution_count": 18,
   "id": "3ba4289f-9ea7-4c58-a102-2555ff7caf8b",
   "metadata": {},
   "outputs": [],
   "source": [
    "# Creating function which can be adapted per column to find biggest/ smallest discipline on average for that column\n",
    "def return_top_bottom_avg_discipline(characteristic):\n",
    "    query = \"WITH Q AS (SELECT discipline, ROUND(avg(\" + characteristic + \"),2) AS avg_\" + characteristic + \" FROM dfAthletes \\\n",
    "    INNER JOIN dfDisc ON dfDisc.discipline_code = dfAthletes.discipline_code \\\n",
    "    GROUP BY discipline), \\\n",
    "    QA AS (SELECT * FROM Q WHERE avg_\" + characteristic + \" IS NOT NULL ORDER BY avg_\" + characteristic + \" DESC LIMIT 1), \\\n",
    "    QD AS (SELECT * FROM Q WHERE avg_\" + characteristic + \" IS NOT NULL ORDER BY avg_\" + characteristic + \" ASC LIMIT 1) \\\n",
    "    SELECT * FROM QD UNION SELECT * FROM QA\"\n",
    "    return spark.sql(query)"
   ]
  },
  {
   "cell_type": "code",
   "execution_count": 19,
   "id": "658ceca9-8edd-4d0d-9579-211a4b7ca158",
   "metadata": {},
   "outputs": [
    {
     "name": "stdout",
     "output_type": "stream",
     "text": [
      "+-------------------+---------------+\n",
      "|         discipline|avg_age_rounded|\n",
      "+-------------------+---------------+\n",
      "|Rhythmic Gymnastics|          21.41|\n",
      "|         Equestrian|          39.07|\n",
      "+-------------------+---------------+\n",
      "\n"
     ]
    }
   ],
   "source": [
    "# Finding youngest and oldest average disciplines\n",
    "young_old_df = return_top_bottom_avg_discipline('age_rounded')\n",
    "young_old_df.show()"
   ]
  },
  {
   "cell_type": "code",
   "execution_count": 20,
   "id": "de3f36eb-a824-4f00-a6c3-85de08b9e2e6",
   "metadata": {},
   "outputs": [],
   "source": [
    "saveBigQuery(young_old_df,'young_old_disc')"
   ]
  },
  {
   "cell_type": "code",
   "execution_count": 21,
   "id": "fd757894-0580-4f7b-9b9c-5a72d300c15e",
   "metadata": {},
   "outputs": [
    {
     "name": "stdout",
     "output_type": "stream",
     "text": [
      "+----------+------------+\n",
      "|discipline|avg_height_m|\n",
      "+----------+------------+\n",
      "|Basketball|        1.91|\n",
      "|Equestrian|        1.57|\n",
      "+----------+------------+\n",
      "\n"
     ]
    }
   ],
   "source": [
    "# Finding smallest and tallest average disciplines\n",
    "height_df = return_top_bottom_avg_discipline('height_m')\n",
    "height_df.show()"
   ]
  },
  {
   "cell_type": "code",
   "execution_count": 22,
   "id": "2b39180c-105a-4946-a52c-1b3fccd4e257",
   "metadata": {},
   "outputs": [],
   "source": [
    "saveBigQuery(height_df,'short_tall_disc')"
   ]
  },
  {
   "cell_type": "code",
   "execution_count": 23,
   "id": "aa621131-26cb-48a8-8f6b-6e01934395ae",
   "metadata": {},
   "outputs": [],
   "source": [
    "# Stop the spark context\n",
    "spark.stop()"
   ]
  }
 ],
 "metadata": {
  "kernelspec": {
   "display_name": "Python 3",
   "language": "python",
   "name": "python3"
  },
  "language_info": {
   "codemirror_mode": {
    "name": "ipython",
    "version": 3
   },
   "file_extension": ".py",
   "mimetype": "text/x-python",
   "name": "python",
   "nbconvert_exporter": "python",
   "pygments_lexer": "ipython3",
   "version": "3.9.4"
  }
 },
 "nbformat": 4,
 "nbformat_minor": 5
}
