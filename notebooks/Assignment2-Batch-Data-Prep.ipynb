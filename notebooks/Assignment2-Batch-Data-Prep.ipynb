{
 "cells": [
  {
   "cell_type": "markdown",
   "id": "357c1d25-a4c1-430b-b2c6-a89a0d6507e8",
   "metadata": {},
   "source": [
    "## Data Preparation"
   ]
  },
  {
   "cell_type": "markdown",
   "id": "d32f7b11-24e0-434b-bedd-9af412eb5714",
   "metadata": {},
   "source": [
    "The batch pipeline used later will carry out various queries on the data. Here the data is preprocessed slightly to be in a better relational format and fix any noted data quality issues. After these fixes the data is stored back into the Google cloud bucket prior to running our batch pipeline."
   ]
  },
  {
   "cell_type": "markdown",
   "id": "f430abef-c1be-4768-bd2e-3780567fe58b",
   "metadata": {},
   "source": [
    "#### Batch job to get data"
   ]
  },
  {
   "cell_type": "code",
   "execution_count": 2,
   "id": "256a06e8-5c19-493f-b597-b21467b7d585",
   "metadata": {},
   "outputs": [
    {
     "name": "stdout",
     "output_type": "stream",
     "text": [
      "root\n",
      " |-- name: string (nullable = true)\n",
      " |-- short_name: string (nullable = true)\n",
      " |-- gender: string (nullable = true)\n",
      " |-- birth_date: string (nullable = true)\n",
      " |-- birth_place: string (nullable = true)\n",
      " |-- birth_country: string (nullable = true)\n",
      " |-- country: string (nullable = true)\n",
      " |-- country_code: string (nullable = true)\n",
      " |-- discipline: string (nullable = true)\n",
      " |-- discipline_code: string (nullable = true)\n",
      " |-- height_m/ft: string (nullable = true)\n",
      " |-- url: string (nullable = true)\n",
      "\n",
      "+---------------+----------+------+----------+-----------+-------------+-------+------------+------------+---------------+-----------+--------------------+\n",
      "|           name|short_name|gender|birth_date|birth_place|birth_country|country|country_code|  discipline|discipline_code|height_m/ft|                 url|\n",
      "+---------------+----------+------+----------+-----------+-------------+-------+------------+------------+---------------+-----------+--------------------+\n",
      "|AALERUD Katrine| AALERUD K|Female|04/12/1994|     VESTBY|       Norway| Norway|         NOR|Cycling Road|            CRD|       null|../../../en/resul...|\n",
      "+---------------+----------+------+----------+-----------+-------------+-------+------------+------------+---------------+-----------+--------------------+\n",
      "only showing top 1 row\n",
      "\n",
      "root\n",
      " |-- name: string (nullable = true)\n",
      " |-- short_name: string (nullable = true)\n",
      " |-- gender: string (nullable = true)\n",
      " |-- birth_date: string (nullable = true)\n",
      " |-- country_code: string (nullable = true)\n",
      " |-- discipline: string (nullable = true)\n",
      " |-- function: string (nullable = true)\n",
      " |-- event: string (nullable = true)\n",
      " |-- url: string (nullable = true)\n",
      "\n",
      "+---------------+------------+------+----------+------------+----------+----------+-----+--------------------+\n",
      "|           name|  short_name|gender|birth_date|country_code|discipline|  function|event|                 url|\n",
      "+---------------+------------+------+----------+------------+----------+----------+-----+--------------------+\n",
      "|ABDELMAGID Wael|ABDELMAGID W|  Male|1982-08-02|         EGY|  Football|Head Coach| null|../../../en/resul...|\n",
      "+---------------+------------+------+----------+------------+----------+----------+-----+--------------------+\n",
      "only showing top 1 row\n",
      "\n",
      "root\n",
      " |-- name: string (nullable = true)\n",
      " |-- short_name: string (nullable = true)\n",
      " |-- gender: string (nullable = true)\n",
      " |-- birth_date: string (nullable = true)\n",
      " |-- country: string (nullable = true)\n",
      " |-- discipline: string (nullable = true)\n",
      " |-- function: string (nullable = true)\n",
      " |-- url: string (nullable = true)\n",
      "\n",
      "+------------+----------+------+----------+----------+----------+--------+--------------------+\n",
      "|        name|short_name|gender|birth_date|   country|discipline|function|                 url|\n",
      "+------------+----------+------+----------+----------+----------+--------+--------------------+\n",
      "|ABAEVA Elena|  ABAEVA E|Female|1966-04-21|Uzbekistan| Wrestling|   Judge|../../../en/resul...|\n",
      "+------------+----------+------+----------+----------+----------+--------+--------------------+\n",
      "only showing top 1 row\n",
      "\n"
     ]
    }
   ],
   "source": [
    "from pyspark.sql import SparkSession\n",
    "from pyspark import SparkConf\n",
    "\n",
    "# Setting Spark configuration\n",
    "sparkConf = SparkConf()\n",
    "sparkConf.setMaster(\"spark://spark-master:7077\")\n",
    "sparkConf.setAppName(\"Assignment2-BatchDataPrep\")\n",
    "sparkConf.set(\"spark.driver.memory\", \"2g\")\n",
    "sparkConf.set(\"spark.executor.cores\", \"1\")\n",
    "sparkConf.set(\"spark.driver.cores\", \"1\")\n",
    "# Create the spark session, which is the entry point to Spark SQL engine\n",
    "spark = SparkSession.builder.config(conf=sparkConf).getOrCreate()\n",
    "\n",
    "# Setup hadoop fs configuration for schema gs://\n",
    "conf = spark.sparkContext._jsc.hadoopConfiguration()\n",
    "conf.set(\"fs.gs.impl\", \"com.google.cloud.hadoop.fs.gcs.GoogleHadoopFileSystem\")\n",
    "conf.set(\"fs.AbstractFileSystem.gs.impl\", \"com.google.cloud.hadoop.fs.gcs.GoogleHadoopFS\")\n",
    "\n",
    "#  Google Storage File Path- to be adapted to personal buckets\n",
    "athletes_gsc_file_path = 'gs://dejads_input_assignment2_team1/athletes.csv' \n",
    "coaches_gsc_file_path = 'gs://dejads_input_assignment2_team1/coaches.csv' \n",
    "tech_offic_gsc_file_path = 'gs://dejads_input_assignment2_team1/technical_officials.csv' \n",
    "\n",
    "# Create data frames, return their schemas and show the first row\n",
    "athletes_df = spark.read.format(\"csv\").option(\"header\", \"true\") \\\n",
    "       .load(athletes_gsc_file_path)\n",
    "athletes_df.printSchema()\n",
    "athletes_df.show(1)\n",
    "\n",
    "coaches_df = spark.read.format(\"csv\").option(\"header\", \"true\") \\\n",
    "       .load(coaches_gsc_file_path)\n",
    "coaches_df.printSchema()\n",
    "coaches_df.show(1)\n",
    "\n",
    "tech_offic_df = spark.read.format(\"csv\").option(\"header\", \"true\") \\\n",
    "       .load(tech_offic_gsc_file_path)\n",
    "tech_offic_df.printSchema()\n",
    "tech_offic_df.show(1)"
   ]
  },
  {
   "cell_type": "markdown",
   "id": "b434e45f-1e06-4cea-996a-57f2f36451ef",
   "metadata": {},
   "source": [
    "#### Fixing height column"
   ]
  },
  {
   "cell_type": "markdown",
   "id": "f3807071-1a9e-4fe7-93dd-6498e3b56393",
   "metadata": {},
   "source": [
    "The first thing is to check that all the data is in the optimal set-up to allow data analysis. It was noted that the athletes dataset has a height column with the height in both metres and feet. This is considered duplicate information so the height in metres is extracted and saved into a separate column."
   ]
  },
  {
   "cell_type": "code",
   "execution_count": 3,
   "id": "8544cfe0-91f9-48d2-a33c-7d6abc71dab9",
   "metadata": {},
   "outputs": [
    {
     "name": "stdout",
     "output_type": "stream",
     "text": [
      "root\n",
      " |-- name: string (nullable = true)\n",
      " |-- short_name: string (nullable = true)\n",
      " |-- gender: string (nullable = true)\n",
      " |-- birth_date: string (nullable = true)\n",
      " |-- birth_place: string (nullable = true)\n",
      " |-- birth_country: string (nullable = true)\n",
      " |-- country: string (nullable = true)\n",
      " |-- country_code: string (nullable = true)\n",
      " |-- discipline: string (nullable = true)\n",
      " |-- discipline_code: string (nullable = true)\n",
      " |-- url: string (nullable = true)\n",
      " |-- height_m: double (nullable = true)\n",
      "\n",
      "+-----------------+----------+------+----------+-----------+-------------+-------+------------+-------------------+---------------+--------------------+--------+\n",
      "|             name|short_name|gender|birth_date|birth_place|birth_country|country|country_code|         discipline|discipline_code|                 url|height_m|\n",
      "+-----------------+----------+------+----------+-----------+-------------+-------+------------+-------------------+---------------+--------------------+--------+\n",
      "|  AALERUD Katrine| AALERUD K|Female|04/12/1994|     VESTBY|       Norway| Norway|         NOR|       Cycling Road|            CRD|../../../en/resul...|    null|\n",
      "|      ABAD Nestor|    ABAD N|  Male|29/03/1993|      ALCOI|        Spain|  Spain|         ESP|Artistic Gymnastics|            GAR|../../../en/resul...|    1.65|\n",
      "|ABAGNALE Giovanni|ABAGNALE G|  Male|11/01/1995|   GRAGNANO|        Italy|  Italy|         ITA|             Rowing|            ROW|../../../en/resul...|    1.98|\n",
      "|   ABALDE Alberto|  ABALDE A|  Male|15/12/1995|     FERROL|        Spain|  Spain|         ESP|         Basketball|            BKB|../../../en/resul...|     2.0|\n",
      "|    ABALDE Tamara|  ABALDE T|Female|06/02/1989|       VIGO|        Spain|  Spain|         ESP|         Basketball|            BKB|../../../en/resul...|    1.92|\n",
      "+-----------------+----------+------+----------+-----------+-------------+-------+------------+-------------------+---------------+--------------------+--------+\n",
      "only showing top 5 rows\n",
      "\n"
     ]
    }
   ],
   "source": [
    "from pyspark.sql.functions import split, col\n",
    "from pyspark.sql.types import DoubleType\n",
    "\n",
    "# Split string to get height in metres, convert this to double, save as column and drop previous height string column\n",
    "athletes_df = athletes_df.withColumn('height_m', split(athletes_df['height_m/ft'], '/').getItem(0).cast(DoubleType())).drop(col(\"height_m/ft\"))\n",
    "\n",
    "# Show new schema and example of new column in dataframe\n",
    "athletes_df.printSchema()\n",
    "athletes_df.show(5)"
   ]
  },
  {
   "cell_type": "code",
   "execution_count": 4,
   "id": "3f94dd2b-f9ab-4181-936b-8a8ec88d9cf3",
   "metadata": {},
   "outputs": [],
   "source": [
    "from pyspark.sql.functions import col, when\n",
    "\n",
    "# Checking for incorrect heights in metres i.e. taller than tallest person in world, smaller than smallest person in the world\n",
    "# Replacing them with null if any found\n",
    "athletes_df = athletes_df.withColumn(\n",
    "    \"height_m\",\n",
    "    when(\n",
    "        col(\"height_m\") < 0.54,\n",
    "        None\n",
    "    ).when(\n",
    "        col(\"height_m\") > 2.52,\n",
    "        None\n",
    "    ).otherwise(col(\"height_m\")))"
   ]
  },
  {
   "cell_type": "markdown",
   "id": "a6bd5551-cf29-4fb9-ad54-c787c137728f",
   "metadata": {},
   "source": [
    "#### Fixing country column"
   ]
  },
  {
   "cell_type": "markdown",
   "id": "ede89e01-5f1b-46de-90aa-96cece865a6d",
   "metadata": {},
   "source": [
    "It was also noted that the athletes table contains both country and country code. The coaches table has country code and the technical officials table has country. The country is therefore extracted into a separate country table and then country_code is implemented in all tables for consistency."
   ]
  },
  {
   "cell_type": "code",
   "execution_count": 5,
   "id": "dd0c5f58-e730-48ba-9416-3929b38c4801",
   "metadata": {},
   "outputs": [
    {
     "name": "stdout",
     "output_type": "stream",
     "text": [
      "+------------+--------------+\n",
      "|country_code|       country|\n",
      "+------------+--------------+\n",
      "|         AFG|   Afghanistan|\n",
      "|         ALB|       Albania|\n",
      "|         ALG|       Algeria|\n",
      "|         ASA|American Samoa|\n",
      "|         AND|       Andorra|\n",
      "+------------+--------------+\n",
      "only showing top 5 rows\n",
      "\n"
     ]
    }
   ],
   "source": [
    "# Extracting country and country code from athletes table\n",
    "country_df = athletes_df.select('country_code', 'country')\n",
    "# Removing duplicate rows\n",
    "country_df = country_df.distinct()\n",
    "country_df.orderBy(\"country\").show(5)"
   ]
  },
  {
   "cell_type": "code",
   "execution_count": 6,
   "id": "ad0737df-06e1-4316-96e0-12de673fca10",
   "metadata": {},
   "outputs": [
    {
     "name": "stdout",
     "output_type": "stream",
     "text": [
      "+------------+\n",
      "|country_code|\n",
      "+------------+\n",
      "+------------+\n",
      "\n",
      "+-------+\n",
      "|country|\n",
      "+-------+\n",
      "+-------+\n",
      "\n",
      "There are no duplicates in the country_code and country column.\n"
     ]
    }
   ],
   "source": [
    "# Showing any country_codes or countries that appear twice in the dataframe\n",
    "dup_ccode_df = country_df.groupBy(\"country_code\").count().where(\"count > 1\").drop(\"count\")\n",
    "dup_ccode_df.show()\n",
    "dup_cty_df = country_df.groupBy(\"country\").count().where(\"count > 1\").drop(\"count\")\n",
    "dup_cty_df.show()\n",
    "if((dup_ccode_df.count() > 0) | (dup_cty_df.count() > 0)):\n",
    "    print('There are duplicates in the country_code and/ or country column.')\n",
    "else:\n",
    "    print('There are no duplicates in the country_code and country column.')"
   ]
  },
  {
   "cell_type": "code",
   "execution_count": 7,
   "id": "3e6b6261-3294-4292-907c-3a6ddb540f51",
   "metadata": {},
   "outputs": [
    {
     "name": "stdout",
     "output_type": "stream",
     "text": [
      "+------------+-------+\n",
      "|country_code|country|\n",
      "+------------+-------+\n",
      "|         EOR|    EOR|\n",
      "|         LBN|    LBN|\n",
      "|         ROC|    ROC|\n",
      "+------------+-------+\n",
      "\n"
     ]
    }
   ],
   "source": [
    "from pyspark.sql.functions import length\n",
    "\n",
    "# Checking if any countries have a country_code in their country column\n",
    "country_df.where(length(col(\"country\")) <= 3).show()"
   ]
  },
  {
   "cell_type": "code",
   "execution_count": 8,
   "id": "df367130-2b5e-44b4-b4aa-7177d0c29953",
   "metadata": {},
   "outputs": [],
   "source": [
    "# Updating these incorrect countries- noted from observation\n",
    "country_df = country_df.withColumn(\n",
    "    \"country\",\n",
    "    when(\n",
    "        col(\"country_code\") == 'LBN',\n",
    "        'Lebanon'\n",
    "    ).when(\n",
    "        col(\"country_code\") == 'ROC',\n",
    "        'Russian Federation'\n",
    "    ).when(\n",
    "        col(\"country_code\") == 'EOR',\n",
    "        'Refugee Olympic Team'\n",
    "    ).when(\n",
    "        col(\"country_code\") == 'SAM',\n",
    "        'Samoa'\n",
    "    ).otherwise(col(\"country\")))"
   ]
  },
  {
   "cell_type": "code",
   "execution_count": 9,
   "id": "a8130c51-db37-4eba-8b91-8916056a764e",
   "metadata": {},
   "outputs": [],
   "source": [
    "# Removing country column in athletes table now that it is present in the country dataframe\n",
    "athletes_df = athletes_df.drop('country')\n",
    "\n",
    "# Updating these incorrect countries- noted from observation\n",
    "athletes_df = athletes_df.withColumn(\n",
    "    \"birth_country\",\n",
    "    when(\n",
    "        col(\"birth_country\") == 'Dominica',\n",
    "        'Dominique'\n",
    "    ).when(\n",
    "        col(\"birth_country\") == 'USSR',\n",
    "        'Russian Federation'\n",
    "    ).when(\n",
    "        col(\"birth_country\") == 'Democratic Republic of Timor-Leste',\n",
    "        'Timor-Leste'\n",
    "    ).otherwise(col(\"birth_country\")))"
   ]
  },
  {
   "cell_type": "code",
   "execution_count": 10,
   "id": "36da4dc5-6e38-4906-84fd-aca746b73bee",
   "metadata": {},
   "outputs": [],
   "source": [
    "# Replacing country column in athletes table with country code\n",
    "# Joining birth_country with country from country dataframe (using left join to not remove data)\n",
    "joinExpression = athletes_df[\"birth_country\"] == country_df['country']\n",
    "athletes_df = athletes_df.join(country_df.withColumnRenamed('country_code', 'birth_country_code'), joinExpression, \"left_outer\").drop('country')\n",
    "\n",
    "# Checking if there are any rows which had a birth country but now has no birth country code\n",
    "# If no rows found then birth_country column can be dropped\n",
    "if((athletes_df.filter(athletes_df.birth_country_code.isNull() & (~athletes_df.birth_country.isNull()))).count() > 0):\n",
    "    print('There is at least one row which had a birth country value that has no matching birth country code.')\n",
    "else: \n",
    "    athletes_df = athletes_df.drop('birth_country')"
   ]
  },
  {
   "cell_type": "code",
   "execution_count": 11,
   "id": "538c54df-87e2-453e-9092-3b94fa10739f",
   "metadata": {},
   "outputs": [],
   "source": [
    "# checking if coach table has a country code not already present in the country table- if any found then this would need to be added\n",
    "country_codes = country_df.select(\"country_code\").rdd.flatMap(lambda x: x).collect()\n",
    "if((coaches_df.where(~col('country_code').isin(country_codes))).count() > 0):\n",
    "    print('There is at least one country code in the coaches table that is not present in the country table.')"
   ]
  },
  {
   "cell_type": "code",
   "execution_count": 12,
   "id": "9667bee4-78d4-4913-aea5-068d680fe8df",
   "metadata": {},
   "outputs": [
    {
     "name": "stdout",
     "output_type": "stream",
     "text": [
      "+----------+--------------------+-------------+------+----------+----------------+--------+--------------------+------------+\n",
      "|   country|                name|   short_name|gender|birth_date|      discipline|function|                 url|country_code|\n",
      "+----------+--------------------+-------------+------+----------+----------------+--------+--------------------+------------+\n",
      "|Uzbekistan|        ABAEVA Elena|     ABAEVA E|Female|1966-04-21|       Wrestling|   Judge|../../../en/resul...|         UZB|\n",
      "|   Morocco|        ABBAR Bachir|      ABBAR B|  Male|1965-05-03|          Boxing|   Judge|../../../en/resul...|         MAR|\n",
      "|   Morocco| ABDELLATIF Makfouni| ABDELLATIF M|  Male|1972-11-23|          Boxing|   Judge|../../../en/resul...|         MAR|\n",
      "|     Japan|            ABE Miya|        ABE M|Female|1992-10-27|Beach Volleyball| Referee|../../../en/resul...|         JPN|\n",
      "|    Uganda|ACIGA FULA Antoni...|ACIGA FULA AS|  Male|1957-11-28|          Boxing|   Judge|../../../en/resul...|         UGA|\n",
      "+----------+--------------------+-------------+------+----------+----------------+--------+--------------------+------------+\n",
      "only showing top 5 rows\n",
      "\n"
     ]
    }
   ],
   "source": [
    "# Updating these incorrect countries in technical officials table- noted from observation\n",
    "tech_offic_df = tech_offic_df.withColumn(\n",
    "    \"country\",\n",
    "    when(\n",
    "        col(\"country\") == 'ROC',\n",
    "        'Russian Federation'\n",
    "    ).otherwise(col(\"country\")))\n",
    "\n",
    "# Replacing country column in technical officias table with country code\n",
    "# Joining country with country from country dataframe (using left join to not remove data)\n",
    "tech_offic_df = tech_offic_df.join(country_df, \"country\", \"left_outer\")\n",
    "tech_offic_df.show(5)\n",
    "\n",
    "# Checking if there are any rows which had a country but now has no country code\n",
    "# If no rows found then country column can be dropped\n",
    "if((tech_offic_df.filter(tech_offic_df.country_code.isNull() & (~tech_offic_df.country.isNull()))).count() > 0):\n",
    "    print('There is at least one row which had a country value that has no matching country code.')\n",
    "else: \n",
    "    tech_offic_df = tech_offic_df.drop('country')"
   ]
  },
  {
   "cell_type": "markdown",
   "id": "ab1fe755-c1d4-461f-978d-ba7eee1a6294",
   "metadata": {},
   "source": [
    "#### Fixing discipline column"
   ]
  },
  {
   "cell_type": "code",
   "execution_count": 13,
   "id": "7e9e05c9-785f-47b5-9e4f-96077e8473e4",
   "metadata": {},
   "outputs": [
    {
     "name": "stdout",
     "output_type": "stream",
     "text": [
      "+---------------+--------------------+\n",
      "|discipline_code|          discipline|\n",
      "+---------------+--------------------+\n",
      "|            BOX|                null|\n",
      "|            WRE|           Wrestling|\n",
      "|            FBL|            Football|\n",
      "|            GTR|Trampoline Gymnas...|\n",
      "|            GLF|                Golf|\n",
      "+---------------+--------------------+\n",
      "only showing top 5 rows\n",
      "\n"
     ]
    }
   ],
   "source": [
    "# Extracting discipline and discipline code from athletes table\n",
    "disc_df = athletes_df.select('discipline_code', 'discipline')\n",
    "# Removing duplicate rows\n",
    "disc_df = disc_df.distinct()\n",
    "disc_df.show(5)"
   ]
  },
  {
   "cell_type": "code",
   "execution_count": 14,
   "id": "e24a9c1d-74b6-4734-bb6d-79959cce6ad2",
   "metadata": {},
   "outputs": [
    {
     "name": "stdout",
     "output_type": "stream",
     "text": [
      "+---------------+-------------------+\n",
      "|discipline_code|         discipline|\n",
      "+---------------+-------------------+\n",
      "|            BK3|     3x3 Basketball|\n",
      "|            ARC|            Archery|\n",
      "|            GAR|Artistic Gymnastics|\n",
      "|            SWA|  Artistic Swimming|\n",
      "|            ATH|          Athletics|\n",
      "+---------------+-------------------+\n",
      "only showing top 5 rows\n",
      "\n"
     ]
    }
   ],
   "source": [
    "# Most of the discipline codes have a row with the discipline and one with null\n",
    "# Here we remove the null rows for the discipline codes that have multiple rows\n",
    "dup_disc_df = disc_df.groupBy(\"discipline_code\").count().where(\"count > 1\").drop(\"count\")\n",
    "dup_disc_codes = disc_df.select(\"discipline_code\").rdd.flatMap(lambda x: x).collect()\n",
    "disc_df = disc_df.filter(((~col('discipline').isNull()) & col('discipline_code').isin(dup_disc_codes)) | (~col('discipline_code').isin(dup_disc_codes)))\n",
    "# Show dataframe with null rows removed\n",
    "disc_df.orderBy(\"discipline\").show(5)\n",
    "\n",
    "# Checking if there are still any discipline codes appearing twice in the dataset\n",
    "if(disc_df.groupBy(\"discipline_code\").count().where(\"count > 1\").drop(\"count\").count() > 0):\n",
    "    print('There is at least one discipline code which has two or more associated disciplines.')\n",
    "# Checking if there are still any disciplines appearing twice in the dataset\n",
    "if(disc_df.groupBy(\"discipline\").count().where(\"count > 1\").drop(\"count\").count() > 0):\n",
    "    print('There is at least one discipline which has two or more associated disciplines.')"
   ]
  },
  {
   "cell_type": "code",
   "execution_count": 15,
   "id": "5b929989-98a2-488f-ab68-a3565bc80c92",
   "metadata": {},
   "outputs": [],
   "source": [
    "# Removing discipline column from athletes table\n",
    "athletes_df = athletes_df.drop('discipline')\n",
    "\n",
    "# Joining discipline code to technical officials table\n",
    "# Removing discipline if there is no information present in discipline column that's not also in discipline code column\n",
    "tech_offic_df = tech_offic_df.join(disc_df, \"discipline\", \"left_outer\")\n",
    "if((tech_offic_df.filter(tech_offic_df.discipline_code.isNull() & (~tech_offic_df.discipline.isNull()))).count() > 0):\n",
    "    print('There is at least one row in the technical officials table which had a discipline value that has no matching discipline code.')\n",
    "else: \n",
    "    tech_offic_df = tech_offic_df.drop('discipline')\n",
    "    \n",
    "# Joining discipline code to technical officials table\n",
    "# Removing discipline if there is no information present in discipline column that's not also in discipline code column\n",
    "coaches_df = coaches_df.join(disc_df, \"discipline\", \"left_outer\")\n",
    "if((coaches_df.filter(coaches_df.discipline_code.isNull() & (~coaches_df.discipline.isNull()))).count() > 0):\n",
    "    print('There is at least one row in the coaches table which had a discipline value that has no matching discipline code.')\n",
    "else: \n",
    "    coaches_df = coaches_df.drop('discipline')"
   ]
  },
  {
   "cell_type": "code",
   "execution_count": null,
   "id": "2b39180c-105a-4946-a52c-1b3fccd4e257",
   "metadata": {},
   "outputs": [],
   "source": [
    "# Saving all five altered table back in Google bucket to be used for next batch job\n",
    "athletes_df.write.format(\"csv\").option(\"header\", \"true\").mode(\"overwrite\").save(\"gs://dejads_output_assignment2_team1/athletes_clean.csv\") \n",
    "coaches_df.write.format(\"csv\").option(\"header\", \"true\").mode(\"overwrite\").save(\"gs://dejads_output_assignment2_team1/coaches_clean.csv\") \n",
    "tech_offic_df.write.format(\"csv\").option(\"header\", \"true\").mode(\"overwrite\").save(\"gs://dejads_output_assignment2_team1/tech_offic_clean.csv\") \n",
    "country_df.write.format(\"csv\").option(\"header\", \"true\").mode(\"overwrite\").save(\"gs://dejads_output_assignment2_team1/country.csv\") \n",
    "disc_df.write.format(\"csv\").option(\"header\", \"true\").mode(\"overwrite\").save(\"gs://dejads_output_assignment2_team1/disciplines.csv\") "
   ]
  },
  {
   "cell_type": "markdown",
   "id": "06298a58-771b-4523-94fe-e275edcefb85",
   "metadata": {},
   "source": [
    "There are other improvements that could be made for this dataset including creating a separate table for athlete name, using their short name as a key. This would be carried out in a similar manner as above so has not been implemented here."
   ]
  },
  {
   "cell_type": "code",
   "execution_count": 17,
   "id": "aa621131-26cb-48a8-8f6b-6e01934395ae",
   "metadata": {},
   "outputs": [],
   "source": [
    "# Stop the spark context\n",
    "spark.stop()"
   ]
  }
 ],
 "metadata": {
  "kernelspec": {
   "display_name": "Python 3",
   "language": "python",
   "name": "python3"
  },
  "language_info": {
   "codemirror_mode": {
    "name": "ipython",
    "version": 3
   },
   "file_extension": ".py",
   "mimetype": "text/x-python",
   "name": "python",
   "nbconvert_exporter": "python",
   "pygments_lexer": "ipython3",
   "version": "3.9.4"
  }
 },
 "nbformat": 4,
 "nbformat_minor": 5
}
